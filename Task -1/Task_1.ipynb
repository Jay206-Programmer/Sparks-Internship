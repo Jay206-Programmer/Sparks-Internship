{
  "nbformat": 4,
  "nbformat_minor": 0,
  "metadata": {
    "colab": {
      "name": "Task - 1.ipynb",
      "provenance": [],
      "collapsed_sections": [],
      "toc_visible": true
    },
    "kernelspec": {
      "name": "python3",
      "display_name": "Python 3"
    }
  },
  "cells": [
    {
      "cell_type": "markdown",
      "metadata": {
        "id": "z9-9dpjcu0FO"
      },
      "source": [
        "# Author : Jay Shukla\n",
        "## Task 1 : Prediction using Supervised Machine Learning\n",
        "## GRIP @ The Sparks Foundation\n",
        "\n",
        "In this regression task I tried to predict the percentage of marks that a student is expected to score based upon the number of hours they studied.\n",
        "\n",
        "This is a simple linear regression task as it involves just two variables.  "
      ]
    },
    {
      "cell_type": "markdown",
      "metadata": {
        "id": "OZR0e3htv7OR"
      },
      "source": [
        "## Reading The Data from URL"
      ]
    },
    {
      "cell_type": "markdown",
      "metadata": {
        "id": "BFF512QwwRuf"
      },
      "source": [
        "### Importing The Libraries"
      ]
    },
    {
      "cell_type": "code",
      "metadata": {
        "id": "P9MUxqPav-og"
      },
      "source": [
        "import requests"
      ],
      "execution_count": 1,
      "outputs": []
    },
    {
      "cell_type": "markdown",
      "metadata": {
        "id": "hw4mQOkmwZqW"
      },
      "source": [
        "### Reading & Saving the Data"
      ]
    },
    {
      "cell_type": "code",
      "metadata": {
        "id": "suv9r2siwnMh",
        "outputId": "3f738a20-db29-42a3-8d84-ef7ef0c18819",
        "colab": {
          "base_uri": "https://localhost:8080/",
          "height": 459
        }
      },
      "source": [
        "#Reading the Data\n",
        "link = \"https://raw.githubusercontent.com/AdiPersonalWorks/Random/master/student_scores%20-%20student_scores.csv\"\n",
        "f = requests.get(link)\n",
        "myfile = f.text\n",
        "\n",
        "print(myfile)\n",
        "\n",
        "#Saving the data\n",
        "Datafile = open(\"Data.csv\", 'w')\n",
        "Datafile.write(myfile)\n",
        "Datafile.close()"
      ],
      "execution_count": 2,
      "outputs": [
        {
          "output_type": "stream",
          "text": [
            "Hours,Scores\r\n",
            "2.5,21\r\n",
            "5.1,47\r\n",
            "3.2,27\r\n",
            "8.5,75\r\n",
            "3.5,30\r\n",
            "1.5,20\r\n",
            "9.2,88\r\n",
            "5.5,60\r\n",
            "8.3,81\r\n",
            "2.7,25\r\n",
            "7.7,85\r\n",
            "5.9,62\r\n",
            "4.5,41\r\n",
            "3.3,42\r\n",
            "1.1,17\r\n",
            "8.9,95\r\n",
            "2.5,30\r\n",
            "1.9,24\r\n",
            "6.1,67\r\n",
            "7.4,69\r\n",
            "2.7,30\r\n",
            "4.8,54\r\n",
            "3.8,35\r\n",
            "6.9,76\r\n",
            "7.8,86\n"
          ],
          "name": "stdout"
        }
      ]
    },
    {
      "cell_type": "markdown",
      "metadata": {
        "id": "91nlGW7cxPJ4"
      },
      "source": [
        "## Performing Task"
      ]
    },
    {
      "cell_type": "markdown",
      "metadata": {
        "id": "vobaPQOUvHJ6"
      },
      "source": [
        "### Importing Libraries"
      ]
    },
    {
      "cell_type": "code",
      "metadata": {
        "id": "edtMhvCIugNj"
      },
      "source": [
        "import pandas as pd\n",
        "import numpy as np\n",
        "from sklearn.linear_model import LinearRegression\n",
        "from sklearn.model_selection import train_test_split \n",
        "import matplotlib.pyplot as plt\n",
        "%matplotlib inline"
      ],
      "execution_count": 13,
      "outputs": []
    },
    {
      "cell_type": "markdown",
      "metadata": {
        "id": "H2Hn1LimvTkq"
      },
      "source": [
        "### Initialising the Dataframe"
      ]
    },
    {
      "cell_type": "code",
      "metadata": {
        "id": "nJ3-fFEUvZe9"
      },
      "source": [
        "df = pd.read_csv('./Data.csv')"
      ],
      "execution_count": 4,
      "outputs": []
    },
    {
      "cell_type": "markdown",
      "metadata": {
        "id": "NAGFTE-LvpcI"
      },
      "source": [
        "### Initializing Inputs & Targets\n"
      ]
    },
    {
      "cell_type": "code",
      "metadata": {
        "id": "V1ooI5d_v6T5"
      },
      "source": [
        "X = np.array(df['Hours']).reshape(-1,1)\n",
        "y = np.array(df['Scores']).reshape(-1,1)\n",
        "\n",
        "X_train, X_test, y_train, y_test = train_test_split(X, y, test_size=0.2, random_state=0) "
      ],
      "execution_count": 14,
      "outputs": []
    },
    {
      "cell_type": "markdown",
      "metadata": {
        "id": "mrcsY78HxdN1"
      },
      "source": [
        "### Creating the Linear Regression Model And Fitting the Data"
      ]
    },
    {
      "cell_type": "code",
      "metadata": {
        "id": "b4S8W7bvxsQK",
        "outputId": "33beb294-cf4d-463d-89b5-dcc8176f9034",
        "colab": {
          "base_uri": "https://localhost:8080/",
          "height": 34
        }
      },
      "source": [
        "model = LinearRegression()\n",
        "model.fit(X_train,y_train)"
      ],
      "execution_count": 15,
      "outputs": [
        {
          "output_type": "execute_result",
          "data": {
            "text/plain": [
              "LinearRegression(copy_X=True, fit_intercept=True, n_jobs=None, normalize=False)"
            ]
          },
          "metadata": {
            "tags": []
          },
          "execution_count": 15
        }
      ]
    },
    {
      "cell_type": "markdown",
      "metadata": {
        "id": "x1hhzLvCxubc"
      },
      "source": [
        "### Predicting The Data"
      ]
    },
    {
      "cell_type": "code",
      "metadata": {
        "id": "xmKbvo_exs55",
        "outputId": "4ab934ab-06c5-418a-a492-104668a9ee1b",
        "colab": {
          "base_uri": "https://localhost:8080/",
          "height": 51
        }
      },
      "source": [
        "val = np.array(9.25).reshape(1,-1)\n",
        "prediction = model.predict(val)\n",
        "\n",
        "print(f\"Study Hours: {val[0][0]} hrs\\nMarks: {prediction[0][0]}%\")"
      ],
      "execution_count": 16,
      "outputs": [
        {
          "output_type": "stream",
          "text": [
            "Study Hours: 9.25 hrs\n",
            "Marks: 93.69173248737539%\n"
          ],
          "name": "stdout"
        }
      ]
    },
    {
      "cell_type": "markdown",
      "metadata": {
        "id": "L9yXgBdfzckV"
      },
      "source": [
        "## Plotting The Result"
      ]
    },
    {
      "cell_type": "markdown",
      "metadata": {
        "id": "HpMkGsTzEIYJ"
      },
      "source": [
        "### Creating 2 points for plotting the Lines"
      ]
    },
    {
      "cell_type": "code",
      "metadata": {
        "id": "SzzrwCAuyHSX"
      },
      "source": [
        "val1 = np.array(0).reshape(-1,1)  \n",
        "val2 = np.array(10).reshape(-1,1) #Taking 2 X values\n",
        "\n",
        "point1 = model.predict(val1).reshape(-1,1)\n",
        "point2 = model.predict(val2).reshape(-1,1) #Predicting 2 Y values"
      ],
      "execution_count": 17,
      "outputs": []
    },
    {
      "cell_type": "markdown",
      "metadata": {
        "id": "2k8IAVb2E_rU"
      },
      "source": [
        "### Creating Input for the Plot"
      ]
    },
    {
      "cell_type": "code",
      "metadata": {
        "id": "9K8vBWfUExhS"
      },
      "source": [
        "A = np.array([val1,val2]).reshape(-1,1)\n",
        "B = np.array([point1,point2]).reshape(-1,1) #Created the list of points"
      ],
      "execution_count": 18,
      "outputs": []
    },
    {
      "cell_type": "markdown",
      "metadata": {
        "id": "m1Wl_9K9G36L"
      },
      "source": [
        "### Plotting Regression Line"
      ]
    },
    {
      "cell_type": "code",
      "metadata": {
        "id": "XdEuxPW9G0VI",
        "outputId": "352f21e4-132d-4914-a741-ceaedfda14f6",
        "colab": {
          "base_uri": "https://localhost:8080/",
          "height": 513
        }
      },
      "source": [
        "fig = plt.figure(figsize = (10,8))\n",
        "plt.title(\"Visualising Regression Line\")\n",
        "plt.xlabel(\"Hours Studied\")\n",
        "plt.ylabel(\"Marks Obtained\")\n",
        "\n",
        "plt.scatter(X,y)\n",
        "plt.scatter(val,prediction)\n",
        "plt.plot(A,B,\"r\")\n",
        "\n",
        "plt.legend([\"Regression Line\",\"Train Data\",\"Test Data\"],loc=2, prop={'size': 15})\n",
        "plt.xlim((0,10))\n",
        "\n",
        "plt.show()"
      ],
      "execution_count": 19,
      "outputs": [
        {
          "output_type": "display_data",
          "data": {
            "image/png": "[encoded data removed]",
            "text/plain": [
              "<Figure size 720x576 with 1 Axes>"
            ]
          },
          "metadata": {
            "tags": [],
            "needs_background": "light"
          }
        }
      ]
    },
    {
      "cell_type": "markdown",
      "metadata": {
        "id": "OuZpO5UWKWgx"
      },
      "source": [
        "## Evaluation"
      ]
    },
    {
      "cell_type": "markdown",
      "metadata": {
        "id": "wrQmCcrsK_wV"
      },
      "source": [
        "### Getting prediction Data"
      ]
    },
    {
      "cell_type": "code",
      "metadata": {
        "id": "ElF8O3mNKYog"
      },
      "source": [
        "y_pred = model.predict(X_test)"
      ],
      "execution_count": 20,
      "outputs": []
    },
    {
      "cell_type": "markdown",
      "metadata": {
        "id": "-baVKPkZLDnG"
      },
      "source": [
        "### Evaluating the predicted Results "
      ]
    },
    {
      "cell_type": "code",
      "metadata": {
        "id": "n6veLaULKk2t",
        "outputId": "b02b989e-c245-45c8-fc26-504368c0b906",
        "colab": {
          "base_uri": "https://localhost:8080/",
          "height": 85
        }
      },
      "source": [
        "from sklearn import metrics  \n",
        "print('Mean Absolute Error:',metrics.mean_absolute_error(y_test, y_pred)) \n",
        "print('Mean Squared Error:', metrics.mean_squared_error(y_test, y_pred))\n",
        "print('Root Mean Squared Error:', np.sqrt(metrics.mean_squared_error(y_test, y_pred)))\n",
        "print('R-2:', metrics.r2_score(y_test, y_pred))"
      ],
      "execution_count": 21,
      "outputs": [
        {
          "output_type": "stream",
          "text": [
            "Mean Absolute Error: 4.183859899002982\n",
            "Mean Squared Error: 21.598769307217456\n",
            "Root Mean Squared Error: 4.647447612100373\n",
            "R-2: 0.9454906892105354\n"
          ],
          "name": "stdout"
        }
      ]
    },
    {
      "cell_type": "markdown",
      "metadata": {
        "id": "LRJnzGl8LK4I"
      },
      "source": [
        "## Results\n",
        "\n",
        "As you can see the model I created here gives R-2 score of 0.94 which can be considered very good.\n",
        "\n",
        "So I have built a supervised model from the given data that can predict marks from given study hours, plotted the model & Evaluated the model, thereby I can say I finished the Task-1."
      ]
    }
  ]
}